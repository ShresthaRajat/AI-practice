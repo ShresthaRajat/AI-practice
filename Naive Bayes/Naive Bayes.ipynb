{
  "nbformat": 4,
  "nbformat_minor": 0,
  "metadata": {
    "colab": {
      "name": "naive bayes.ipynb",
      "provenance": [],
      "collapsed_sections": []
    },
    "kernelspec": {
      "name": "python3",
      "display_name": "Python 3"
    }
  },
  "cells": [
    {
      "cell_type": "markdown",
      "metadata": {
        "id": "tAflPdGb2emt",
        "colab_type": "text"
      },
      "source": [
        "Method to convert all of the string to lowercase and remove any special characters or numbers using regular expression"
      ]
    },
    {
      "cell_type": "code",
      "metadata": {
        "id": "T_ekxTbIh-E0",
        "colab_type": "code",
        "colab": {}
      },
      "source": [
        "import re\n",
        "\n",
        "def filter(unfiltered_string):\n",
        "    return re.sub('[^A-Za-z]+', ' ', unfiltered_string).lower()"
      ],
      "execution_count": 0,
      "outputs": []
    },
    {
      "cell_type": "code",
      "metadata": {
        "id": "rBVKlmxoe4ei",
        "colab_type": "code",
        "colab": {}
      },
      "source": [
        "mails = [\"Ok, I will call you up when I get some cash\",\n",
        "         \"Going for dinner. msg you later\",\n",
        "         \"Dont worry. I guess he is busy\"]\n",
        "\n",
        "spams = [\"I am pleased to tell you that you are awarded with a 1500 Bonus Prize, reply to\",\n",
        "         \"Congrats 1 year special cinema pass for 2 is yours reply to this sms to claim your prize\",\n",
        "         \"Congrats You have won reply to our sms for a free nokia mobile + free camcorder\"]"
      ],
      "execution_count": 0,
      "outputs": []
    },
    {
      "cell_type": "markdown",
      "metadata": {
        "id": "zX8OaVUB2om_",
        "colab_type": "text"
      },
      "source": [
        "Method to initiate an empty dictionary with unique sets of words"
      ]
    },
    {
      "cell_type": "code",
      "metadata": {
        "id": "BgUISJeoYxTN",
        "colab_type": "code",
        "outputId": "ff34c1d0-ac3e-4ab2-8162-b056da0f189f",
        "colab": {
          "base_uri": "https://localhost:8080/",
          "height": 55
        }
      },
      "source": [
        "def vocabulary(mails, spams):\n",
        "    unique_words = {}\n",
        "    for i in mails+spams:\n",
        "        l = filter(i)\n",
        "        for word in l.split(\" \"):\n",
        "            unique_words[word] = []\n",
        "    return unique_words\n",
        "\n",
        "print(vocabulary(mails,spams).keys())"
      ],
      "execution_count": 3,
      "outputs": [
        {
          "output_type": "stream",
          "text": [
            "dict_keys(['ok', 'i', 'will', 'call', 'you', 'up', 'when', 'get', 'some', 'cash', 'going', 'for', 'dinner', 'msg', 'later', 'dont', 'worry', 'guess', 'he', 'is', 'busy', 'am', 'pleased', 'to', 'tell', 'that', 'are', 'awarded', 'with', 'a', 'bonus', 'prize', 'reply', 'congrats', 'year', 'special', 'cinema', 'pass', 'yours', 'this', 'sms', 'claim', 'your', 'have', 'won', 'our', 'free', 'nokia', 'mobile', 'camcorder'])\n"
          ],
          "name": "stdout"
        }
      ]
    },
    {
      "cell_type": "markdown",
      "metadata": {
        "id": "mOWT7l0y201t",
        "colab_type": "text"
      },
      "source": [
        "Method to create bag of words for mails and spam separately so that it will be easier to calculate the probablities"
      ]
    },
    {
      "cell_type": "code",
      "metadata": {
        "id": "Hsez7djnQ3UM",
        "colab_type": "code",
        "outputId": "551b84e8-e3b7-4819-dd1e-5595b67207a6",
        "colab": {
          "base_uri": "https://localhost:8080/",
          "height": 1000
        }
      },
      "source": [
        "def pre_bag(list_string, bag):\n",
        "    for sentence in list_string:\n",
        "        filtered_string = filter(sentence)\n",
        "        bag_length = len(bag[next(iter(bag))])+1\n",
        "        for word in filtered_string.split(\" \"):\n",
        "            for unique_word, frequency in bag.items():\n",
        "                if word == unique_word:\n",
        "                    if len(bag[unique_word]) < bag_length:\n",
        "                        bag[unique_word].append(1)\n",
        "                    else:\n",
        "                        value = bag[unique_word].pop()\n",
        "                        bag[unique_word].append(value+1)\n",
        "        for unique_word, frequency in bag.items():\n",
        "            if len(bag[unique_word]) < bag_length:\n",
        "                bag[unique_word].append(0)\n",
        "    return bag\n",
        "\n",
        "def bagger(mails, spams):\n",
        "    positive_bag = pre_bag(mails, vocabulary(mails, spams))\n",
        "    negative_bag = pre_bag(spams, vocabulary(mails, spams))\n",
        "    return (positive_bag, negative_bag)\n",
        "\n",
        "# print(bagger(mails,spams)[0])\n",
        "\n",
        "print(mails)\n",
        "for k,v in (bagger(mails,spams)[0]).items():\n",
        "    print(v,k)\n",
        "print(\"\\n\\n\")\n",
        "for k,v in (bagger(mails,spams)[1]).items():\n",
        "    print(v,k)"
      ],
      "execution_count": 4,
      "outputs": [
        {
          "output_type": "stream",
          "text": [
            "['Ok, I will call you up when I get some cash', 'Going for dinner. msg you later', 'Dont worry. I guess he is busy']\n",
            "[1, 0, 0] ok\n",
            "[2, 0, 1] i\n",
            "[1, 0, 0] will\n",
            "[1, 0, 0] call\n",
            "[1, 1, 0] you\n",
            "[1, 0, 0] up\n",
            "[1, 0, 0] when\n",
            "[1, 0, 0] get\n",
            "[1, 0, 0] some\n",
            "[1, 0, 0] cash\n",
            "[0, 1, 0] going\n",
            "[0, 1, 0] for\n",
            "[0, 1, 0] dinner\n",
            "[0, 1, 0] msg\n",
            "[0, 1, 0] later\n",
            "[0, 0, 1] dont\n",
            "[0, 0, 1] worry\n",
            "[0, 0, 1] guess\n",
            "[0, 0, 1] he\n",
            "[0, 0, 1] is\n",
            "[0, 0, 1] busy\n",
            "[0, 0, 0] am\n",
            "[0, 0, 0] pleased\n",
            "[0, 0, 0] to\n",
            "[0, 0, 0] tell\n",
            "[0, 0, 0] that\n",
            "[0, 0, 0] are\n",
            "[0, 0, 0] awarded\n",
            "[0, 0, 0] with\n",
            "[0, 0, 0] a\n",
            "[0, 0, 0] bonus\n",
            "[0, 0, 0] prize\n",
            "[0, 0, 0] reply\n",
            "[0, 0, 0] congrats\n",
            "[0, 0, 0] year\n",
            "[0, 0, 0] special\n",
            "[0, 0, 0] cinema\n",
            "[0, 0, 0] pass\n",
            "[0, 0, 0] yours\n",
            "[0, 0, 0] this\n",
            "[0, 0, 0] sms\n",
            "[0, 0, 0] claim\n",
            "[0, 0, 0] your\n",
            "[0, 0, 0] have\n",
            "[0, 0, 0] won\n",
            "[0, 0, 0] our\n",
            "[0, 0, 0] free\n",
            "[0, 0, 0] nokia\n",
            "[0, 0, 0] mobile\n",
            "[0, 0, 0] camcorder\n",
            "\n",
            "\n",
            "\n",
            "[0, 0, 0] ok\n",
            "[1, 0, 0] i\n",
            "[0, 0, 0] will\n",
            "[0, 0, 0] call\n",
            "[2, 0, 1] you\n",
            "[0, 0, 0] up\n",
            "[0, 0, 0] when\n",
            "[0, 0, 0] get\n",
            "[0, 0, 0] some\n",
            "[0, 0, 0] cash\n",
            "[0, 0, 0] going\n",
            "[0, 1, 1] for\n",
            "[0, 0, 0] dinner\n",
            "[0, 0, 0] msg\n",
            "[0, 0, 0] later\n",
            "[0, 0, 0] dont\n",
            "[0, 0, 0] worry\n",
            "[0, 0, 0] guess\n",
            "[0, 0, 0] he\n",
            "[0, 1, 0] is\n",
            "[0, 0, 0] busy\n",
            "[1, 0, 0] am\n",
            "[1, 0, 0] pleased\n",
            "[2, 2, 1] to\n",
            "[1, 0, 0] tell\n",
            "[1, 0, 0] that\n",
            "[1, 0, 0] are\n",
            "[1, 0, 0] awarded\n",
            "[1, 0, 0] with\n",
            "[1, 0, 1] a\n",
            "[1, 0, 0] bonus\n",
            "[1, 1, 0] prize\n",
            "[1, 1, 1] reply\n",
            "[0, 1, 1] congrats\n",
            "[0, 1, 0] year\n",
            "[0, 1, 0] special\n",
            "[0, 1, 0] cinema\n",
            "[0, 1, 0] pass\n",
            "[0, 1, 0] yours\n",
            "[0, 1, 0] this\n",
            "[0, 1, 1] sms\n",
            "[0, 1, 0] claim\n",
            "[0, 1, 0] your\n",
            "[0, 0, 1] have\n",
            "[0, 0, 1] won\n",
            "[0, 0, 1] our\n",
            "[0, 0, 2] free\n",
            "[0, 0, 1] nokia\n",
            "[0, 0, 1] mobile\n",
            "[0, 0, 1] camcorder\n"
          ],
          "name": "stdout"
        }
      ]
    },
    {
      "cell_type": "markdown",
      "metadata": {
        "id": "BjGONDrq3BMU",
        "colab_type": "text"
      },
      "source": [
        "Method to return the total words in a bag\n",
        "the parameter must be a bagged data so bagging and passing the data to this method\n"
      ]
    },
    {
      "cell_type": "markdown",
      "metadata": {
        "id": "wN5U5fik3Vvw",
        "colab_type": "text"
      },
      "source": [
        "method to calculate and populate an new dictionary with unique words and their frequency calcuations as a set of key value pairs."
      ]
    },
    {
      "cell_type": "code",
      "metadata": {
        "id": "zuo_bYMn3LTR",
        "colab_type": "code",
        "outputId": "7ffd5806-5f9a-402c-8f06-13c7a3d667a2",
        "colab": {
          "base_uri": "https://localhost:8080/",
          "height": 1000
        }
      },
      "source": [
        "def get_bag_length(bag):\n",
        "    bag_length = 0\n",
        "    for i in range(len(bag[next(iter(bag))])):\n",
        "        for unique_word, frequency in bag.items():\n",
        "            bag_length = bag_length + frequency[i]\n",
        "    return bag_length\n",
        "    \n",
        "def calculate(bag):\n",
        "    calculation_bag = {}\n",
        "    bag_length = get_bag_length(bag)\n",
        "    vocabulary = len(bag)\n",
        "\n",
        "    for unique_word, frequency in bag.items():\n",
        "        calculation_bag[unique_word] = (\n",
        "            sum(frequency)+1)/(bag_length+vocabulary)\n",
        "    return calculation_bag\n",
        "\n",
        "print(calculate(bagger([\"this is a mail\", \"also a mail\", \"foo foo foo\"],[\"this is a spam\", \"bar bar\", \"bar\"])[0]))\n",
        "print(calculate(bagger([\"this is a mail\", \"also a mail\", \"foo foo foo\"],[\"this is a spam\", \"bar bar\", \"bar\"])[1]))\n",
        "for k, v in calculate(bagger(mails,spams)[0]).items():\n",
        "    print(v,\"\\t\\t\",k)\n",
        "print(\"\\n\\n\")\n",
        "for k, v in calculate(bagger(mails, spams)[1]).items():\n",
        "    print(v,\"\\t\\t\",k)"
      ],
      "execution_count": 5,
      "outputs": [
        {
          "output_type": "stream",
          "text": [
            "{'this': 0.1111111111111111, 'is': 0.1111111111111111, 'a': 0.16666666666666666, 'mail': 0.16666666666666666, 'also': 0.1111111111111111, 'foo': 0.2222222222222222, 'spam': 0.05555555555555555, 'bar': 0.05555555555555555}\n",
            "{'this': 0.13333333333333333, 'is': 0.13333333333333333, 'a': 0.13333333333333333, 'mail': 0.06666666666666667, 'also': 0.06666666666666667, 'foo': 0.06666666666666667, 'spam': 0.13333333333333333, 'bar': 0.26666666666666666}\n",
            "0.02702702702702703 \t\t ok\n",
            "0.05405405405405406 \t\t i\n",
            "0.02702702702702703 \t\t will\n",
            "0.02702702702702703 \t\t call\n",
            "0.04054054054054054 \t\t you\n",
            "0.02702702702702703 \t\t up\n",
            "0.02702702702702703 \t\t when\n",
            "0.02702702702702703 \t\t get\n",
            "0.02702702702702703 \t\t some\n",
            "0.02702702702702703 \t\t cash\n",
            "0.02702702702702703 \t\t going\n",
            "0.02702702702702703 \t\t for\n",
            "0.02702702702702703 \t\t dinner\n",
            "0.02702702702702703 \t\t msg\n",
            "0.02702702702702703 \t\t later\n",
            "0.02702702702702703 \t\t dont\n",
            "0.02702702702702703 \t\t worry\n",
            "0.02702702702702703 \t\t guess\n",
            "0.02702702702702703 \t\t he\n",
            "0.02702702702702703 \t\t is\n",
            "0.02702702702702703 \t\t busy\n",
            "0.013513513513513514 \t\t am\n",
            "0.013513513513513514 \t\t pleased\n",
            "0.013513513513513514 \t\t to\n",
            "0.013513513513513514 \t\t tell\n",
            "0.013513513513513514 \t\t that\n",
            "0.013513513513513514 \t\t are\n",
            "0.013513513513513514 \t\t awarded\n",
            "0.013513513513513514 \t\t with\n",
            "0.013513513513513514 \t\t a\n",
            "0.013513513513513514 \t\t bonus\n",
            "0.013513513513513514 \t\t prize\n",
            "0.013513513513513514 \t\t reply\n",
            "0.013513513513513514 \t\t congrats\n",
            "0.013513513513513514 \t\t year\n",
            "0.013513513513513514 \t\t special\n",
            "0.013513513513513514 \t\t cinema\n",
            "0.013513513513513514 \t\t pass\n",
            "0.013513513513513514 \t\t yours\n",
            "0.013513513513513514 \t\t this\n",
            "0.013513513513513514 \t\t sms\n",
            "0.013513513513513514 \t\t claim\n",
            "0.013513513513513514 \t\t your\n",
            "0.013513513513513514 \t\t have\n",
            "0.013513513513513514 \t\t won\n",
            "0.013513513513513514 \t\t our\n",
            "0.013513513513513514 \t\t free\n",
            "0.013513513513513514 \t\t nokia\n",
            "0.013513513513513514 \t\t mobile\n",
            "0.013513513513513514 \t\t camcorder\n",
            "\n",
            "\n",
            "\n",
            "0.010309278350515464 \t\t ok\n",
            "0.020618556701030927 \t\t i\n",
            "0.010309278350515464 \t\t will\n",
            "0.010309278350515464 \t\t call\n",
            "0.041237113402061855 \t\t you\n",
            "0.010309278350515464 \t\t up\n",
            "0.010309278350515464 \t\t when\n",
            "0.010309278350515464 \t\t get\n",
            "0.010309278350515464 \t\t some\n",
            "0.010309278350515464 \t\t cash\n",
            "0.010309278350515464 \t\t going\n",
            "0.030927835051546393 \t\t for\n",
            "0.010309278350515464 \t\t dinner\n",
            "0.010309278350515464 \t\t msg\n",
            "0.010309278350515464 \t\t later\n",
            "0.010309278350515464 \t\t dont\n",
            "0.010309278350515464 \t\t worry\n",
            "0.010309278350515464 \t\t guess\n",
            "0.010309278350515464 \t\t he\n",
            "0.020618556701030927 \t\t is\n",
            "0.010309278350515464 \t\t busy\n",
            "0.020618556701030927 \t\t am\n",
            "0.020618556701030927 \t\t pleased\n",
            "0.061855670103092786 \t\t to\n",
            "0.020618556701030927 \t\t tell\n",
            "0.020618556701030927 \t\t that\n",
            "0.020618556701030927 \t\t are\n",
            "0.020618556701030927 \t\t awarded\n",
            "0.020618556701030927 \t\t with\n",
            "0.030927835051546393 \t\t a\n",
            "0.020618556701030927 \t\t bonus\n",
            "0.030927835051546393 \t\t prize\n",
            "0.041237113402061855 \t\t reply\n",
            "0.030927835051546393 \t\t congrats\n",
            "0.020618556701030927 \t\t year\n",
            "0.020618556701030927 \t\t special\n",
            "0.020618556701030927 \t\t cinema\n",
            "0.020618556701030927 \t\t pass\n",
            "0.020618556701030927 \t\t yours\n",
            "0.020618556701030927 \t\t this\n",
            "0.030927835051546393 \t\t sms\n",
            "0.020618556701030927 \t\t claim\n",
            "0.020618556701030927 \t\t your\n",
            "0.020618556701030927 \t\t have\n",
            "0.020618556701030927 \t\t won\n",
            "0.020618556701030927 \t\t our\n",
            "0.030927835051546393 \t\t free\n",
            "0.020618556701030927 \t\t nokia\n",
            "0.020618556701030927 \t\t mobile\n",
            "0.020618556701030927 \t\t camcorder\n"
          ],
          "name": "stdout"
        }
      ]
    },
    {
      "cell_type": "markdown",
      "metadata": {
        "id": "Zv94S2bj3j1Z",
        "colab_type": "text"
      },
      "source": [
        "The main classifier which takes the spam and mail samples and classifies the given data according to the training data provided"
      ]
    },
    {
      "cell_type": "code",
      "metadata": {
        "id": "vW8z7IDWQLLE",
        "colab_type": "code",
        "colab": {}
      },
      "source": [
        "def naive_classifier(unclassified, mails, spams):\n",
        "    prob_mail = len(mails)/len(mails+spams)\n",
        "    prob_spam = len(spams)/len(mails+spams)\n",
        "    is_mail = 1\n",
        "    is_spam = 1\n",
        "    both_bag = bagger(mails, spams)\n",
        "    positive_bag = both_bag[0]\n",
        "    negative_bag = both_bag[1]\n",
        "    for word in filter(unclassified).split(\" \"):\n",
        "        for unique_word, frequency in calculate(positive_bag).items():\n",
        "            if word == unique_word:\n",
        "                is_mail = is_mail*frequency\n",
        "                # print(word, frequency)\n",
        "        \n",
        "        for unique_word, frequency in calculate(negative_bag).items():\n",
        "            if word == unique_word:\n",
        "                is_spam = is_spam*frequency\n",
        "                # print(word, frequency)\n",
        "    print(prob_mail*is_mail, prob_spam*is_spam)\n",
        "    if prob_mail*is_mail < prob_spam*is_spam:\n",
        "        classification = \"spam\"\n",
        "    else:\n",
        "        classification = \"not spam\"\n",
        "    return unclassified, classification"
      ],
      "execution_count": 0,
      "outputs": []
    },
    {
      "cell_type": "code",
      "metadata": {
        "id": "3PFUDj8G1bI8",
        "colab_type": "code",
        "colab": {}
      },
      "source": [
        ""
      ],
      "execution_count": 0,
      "outputs": []
    },
    {
      "cell_type": "code",
      "metadata": {
        "id": "ISaVjsekQezn",
        "colab_type": "code",
        "outputId": "310659a9-35b5-49f1-b13a-40924d459786",
        "colab": {
          "base_uri": "https://localhost:8080/",
          "height": 88
        }
      },
      "source": [
        "mails = [\"Ok, I will call you up when I get some cash\",\n",
        "         \"Going for dinner. msg you later\",\n",
        "         \"Dont worry. I guess he is busy\"]\n",
        "\n",
        "spams = [\"I am pleased to tell you that you are awarded with a 1500 Bonus Prize, reply to\",\n",
        "         \"Congrats 1 year special cinema pass for 2 is yours reply to this sms to claim your prize\",\n",
        "         \"Congrats You have won reply to our sms for a free nokia mobile + free camcorder\"]\n",
        "\n",
        "print(naive_classifier(\"I am busy. I will msg you later.\", mails, spams))\n",
        "print(naive_classifier(\"Congrats! You are awarded a free mobile.\", mails, spams))"
      ],
      "execution_count": 7,
      "outputs": [
        {
          "output_type": "stream",
          "text": [
            "4.2704876133169763e-13 2.041484601729748e-15\n",
            "('I am busy. I will msg you later.', 'not spam')\n",
            "1.2344378257244386e-13 5.34664817193021e-12\n",
            "('Congrats! You are awarded a free mobile.', 'spam')\n"
          ],
          "name": "stdout"
        }
      ]
    },
    {
      "cell_type": "code",
      "metadata": {
        "id": "19m3mG9P2ELw",
        "colab_type": "code",
        "colab": {}
      },
      "source": [
        "def naive_classifier(unclassified, good, bad):\n",
        "    prob_good = len(good)/len(good+bad)\n",
        "    prob_bad = len(bad)/len(good+bad)\n",
        "    is_good = 1\n",
        "    is_bad = 1\n",
        "    both_bag = bagger(good, bad)\n",
        "    positive_bag = both_bag[0]\n",
        "    negative_bag = both_bag[1]\n",
        "    for word in filter(unclassified).split(\" \"):\n",
        "        for unique_word, frequency in calculate(positive_bag).items():\n",
        "            if word == unique_word:\n",
        "                is_good = is_good*frequency\n",
        "                # print(word, frequency)\n",
        "        \n",
        "        for unique_word, frequency in calculate(negative_bag).items():\n",
        "            if word == unique_word:\n",
        "                is_bad = is_bad*frequency\n",
        "                # print(word, frequency)\n",
        "    print(prob_good*is_good, prob_bad*is_bad)\n",
        "    if prob_good*is_good > prob_bad*is_bad:\n",
        "        classification = \"bad\"\n",
        "    else:\n",
        "        classification = \"good\"\n",
        "    return unclassified, classification"
      ],
      "execution_count": 0,
      "outputs": []
    },
    {
      "cell_type": "code",
      "metadata": {
        "id": "hnCyEiDd2b7K",
        "colab_type": "code",
        "outputId": "6480e73d-12e9-4616-9399-8ef9bf29e086",
        "colab": {
          "base_uri": "https://localhost:8080/",
          "height": 124
        }
      },
      "source": [
        "good = [\"i like it, i will watch this movie again\",\n",
        "         \"this is so good, i love it\",\n",
        "         \"this is my favourite movie\"]\n",
        "\n",
        "bad = [\"that movie sucks really bad, this hurts my eyes\",\n",
        "         \"I want to kill my self because i watched this movie\",\n",
        "         \"How do i unwatch an movie, the acting was pathetic\"]\n",
        "\n",
        "print(naive_classifier(\"I loved the acting on this movie\", good, bad))\n",
        "print(naive_classifier(\"I will never recommend this movie to any one.\", good, bad))\n",
        "print(naive_classifier(\"the movie was good\", good, bad))\n",
        "\n"
      ],
      "execution_count": 9,
      "outputs": [
        {
          "output_type": "stream",
          "text": [
            "4.768675761094311e-08 8.940696716308594e-08\n",
            "('I loved the acting on this movie', 'good')\n",
            "9.537351522188621e-08 4.470348358154297e-08\n",
            "('I will never recommend this movie to any one.', 'bad')\n",
            "3.278464585752338e-07 4.76837158203125e-07\n",
            "('the movie was good', 'good')\n"
          ],
          "name": "stdout"
        }
      ]
    },
    {
      "cell_type": "code",
      "metadata": {
        "id": "j5h4G-4d5taF",
        "colab_type": "code",
        "colab": {}
      },
      "source": [
        ""
      ],
      "execution_count": 0,
      "outputs": []
    }
  ]
}