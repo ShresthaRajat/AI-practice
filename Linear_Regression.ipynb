{
  "nbformat": 4,
  "nbformat_minor": 0,
  "metadata": {
    "kernelspec": {
      "display_name": "Python 3",
      "language": "python",
      "name": "python3"
    },
    "language_info": {
      "codemirror_mode": {
        "name": "ipython",
        "version": 3
      },
      "file_extension": ".py",
      "mimetype": "text/x-python",
      "name": "python",
      "nbconvert_exporter": "python",
      "pygments_lexer": "ipython3",
      "version": "3.6.6"
    },
    "colab": {
      "name": "Linear Regression.ipynb",
      "provenance": [],
      "collapsed_sections": []
    }
  },
  "cells": [
    {
      "cell_type": "code",
      "metadata": {
        "id": "ty1HHVg1wKiJ",
        "colab_type": "code",
        "colab": {}
      },
      "source": [
        "import numpy as np\n",
        "import matplotlib.pyplot as plt"
      ],
      "execution_count": 0,
      "outputs": []
    },
    {
      "cell_type": "markdown",
      "metadata": {
        "id": "EbJ5tQjAwKia",
        "colab_type": "text"
      },
      "source": [
        "## Below are the corresponding coordinates of the datapoints "
      ]
    },
    {
      "cell_type": "code",
      "metadata": {
        "id": "tYQjnUkwwKic",
        "colab_type": "code",
        "colab": {}
      },
      "source": [
        "X = np.array([ 1,  2,  3,  4,  5,  6,  7,  8,  9, 10])\n",
        "Y = np.array([ 2.5,  3. ,  5.5,  9. , 10.5, 11. , 10.5, 13. , 13.5, 15. ])"
      ],
      "execution_count": 0,
      "outputs": []
    },
    {
      "cell_type": "markdown",
      "metadata": {
        "id": "WxX5q1K1wKig",
        "colab_type": "text"
      },
      "source": [
        "## Plot the datapoints using matplotlib"
      ]
    },
    {
      "cell_type": "code",
      "metadata": {
        "id": "0yR2JzT2wKij",
        "colab_type": "code",
        "outputId": "a0429532-37a3-4976-9f47-17fcd65520c6",
        "colab": {
          "base_uri": "https://localhost:8080/",
          "height": 300
        }
      },
      "source": [
        "%matplotlib inline\n",
        "\n",
        "plt.plot(X,Y,\"*\") #plot the points\n",
        "plt.xlabel(\"X\") #set label for x axis\n",
        "plt.ylabel(\"Y\") #set label for y axis\n",
        "plt.xlim([0,12]) #set the limits for x axis\n",
        "plt.ylim([0,18]) #set the limits for y axis"
      ],
      "execution_count": 10,
      "outputs": [
        {
          "output_type": "execute_result",
          "data": {
            "text/plain": [
              "(0.0, 18.0)"
            ]
          },
          "metadata": {
            "tags": []
          },
          "execution_count": 10
        },
        {
          "output_type": "display_data",
          "data": {
            "image/png": "[encoded data removed]",
            "text/plain": [
              "<Figure size 432x288 with 1 Axes>"
            ]
          },
          "metadata": {
            "tags": [],
            "needs_background": "light"
          }
        }
      ]
    },
    {
      "cell_type": "markdown",
      "metadata": {
        "id": "O5BmW6sCwKir",
        "colab_type": "text"
      },
      "source": [
        "## Using scikit-learn build a linear regression model which will best describe the above data points"
      ]
    },
    {
      "cell_type": "code",
      "metadata": {
        "id": "K4fbsom6wKis",
        "colab_type": "code",
        "colab": {}
      },
      "source": [
        "from sklearn.linear_model import LinearRegression #import the linear regression model\n",
        "\n",
        "model = LinearRegression().fit(X.reshape(-1,1),Y.reshape(-1,1)) #fit the model with our data, see for yourself what reshape(-1,1) does to a list\n",
        "m_model = model.coef_[0][0] #get the value of m\n",
        "c_model = model.intercept_[0] #get the value of c"
      ],
      "execution_count": 0,
      "outputs": []
    },
    {
      "cell_type": "markdown",
      "metadata": {
        "id": "RDQ20rK1wKiv",
        "colab_type": "text"
      },
      "source": [
        "## Plot the points and the line given by the model"
      ]
    },
    {
      "cell_type": "code",
      "metadata": {
        "id": "waoiLk6FwKiw",
        "colab_type": "code",
        "outputId": "e9aaf640-cd5f-4b7a-8af7-06adcfdfb652",
        "colab": {
          "base_uri": "https://localhost:8080/",
          "height": 300
        }
      },
      "source": [
        "y_model = np.array([m_model*x+c_model for x in X]) #get the values of y as predicted by the model, using the equation y = mx+c\n",
        "\n",
        "plt.plot(X,Y,\"*\") #plot the points\n",
        "plt.plot(X,y_model) #plot the straight line\n",
        "plt.xlabel(\"X\")\n",
        "plt.ylabel(\"Y\")\n",
        "plt.xlim([0,12])\n",
        "plt.ylim([0,18])"
      ],
      "execution_count": 12,
      "outputs": [
        {
          "output_type": "execute_result",
          "data": {
            "text/plain": [
              "(0.0, 18.0)"
            ]
          },
          "metadata": {
            "tags": []
          },
          "execution_count": 12
        },
        {
          "output_type": "display_data",
          "data": {
            "image/png": "[encoded data removed]",
            "text/plain": [
              "<Figure size 432x288 with 1 Axes>"
            ]
          },
          "metadata": {
            "tags": [],
            "needs_background": "light"
          }
        }
      ]
    },
    {
      "cell_type": "markdown",
      "metadata": {
        "id": "HQEKKZagwKiy",
        "colab_type": "text"
      },
      "source": [
        "# Build the linear regression model yourself\n",
        "Now you are required to code the equations to find out the values of $\\beta_{0}$ and $\\beta_{1}$. \n",
        "Remember the formula for calculating the parameters are:\n",
        "$$\\beta_{1}=\\frac {\\sum_{i=1}^{n} y_i x_i - \\frac{1}{n} \\sum_{i=1}^{n} y_i \\sum_{i=1}^{n} x_i} {\\sum_{i=1}^{n} x_i^2 - \\frac{1}{n} \\sum_{i=1}^{n} x_i \\sum_{i=1}^{n} x_i}$$\n",
        "$$\\beta_{0} = \\frac{1}{n} \\sum_{i=1}^{n} y_i - \\beta_{1} \\frac{1}{n} \\sum_{i=1}^{n} x_i$$\n",
        "After finding out the values of $\\beta_{0}$ and $\\beta_{1}$, plot the graph of the straight line given by the equation \n",
        "$$y = \\beta_{0}+\\beta_{1}x$$"
      ]
    },
    {
      "cell_type": "code",
      "metadata": {
        "id": "7JZZD0oWwKiz",
        "colab_type": "code",
        "outputId": "6e6439ab-e5b9-486b-b837-43ecc499e648",
        "colab": {
          "base_uri": "https://localhost:8080/",
          "height": 52
        }
      },
      "source": [
        "M = (sum(X*Y)-(sum(Y)*sum(X)/len(X)))/(sum(X**2)-(sum(X)*sum(X)/len(X))) \n",
        "print(M)\n",
        "C = (sum(Y)-M*sum(X))/len(X)\n",
        "print(C)"
      ],
      "execution_count": 13,
      "outputs": [
        {
          "output_type": "stream",
          "text": [
            "1.3848484848484848\n",
            "1.7333333333333343\n"
          ],
          "name": "stdout"
        }
      ]
    },
    {
      "cell_type": "code",
      "metadata": {
        "id": "537s9Sx5wZMm",
        "colab_type": "code",
        "colab": {}
      },
      "source": [
        ""
      ],
      "execution_count": 0,
      "outputs": []
    },
    {
      "cell_type": "code",
      "metadata": {
        "id": "RPyBH_ulw0Zq",
        "colab_type": "code",
        "outputId": "507d7077-a68e-47d1-fafe-92a061435fe5",
        "colab": {
          "base_uri": "https://localhost:8080/",
          "height": 284
        }
      },
      "source": [
        "y_model = np.array([M*x+C for x in X]) #get the values of y as predicted by the model, using the equation y = mx+c\n",
        "\n",
        "plt.plot(X,Y,\"*\") #plot the points\n",
        "plt.plot(X,y_model) #plot the straight line"
      ],
      "execution_count": 14,
      "outputs": [
        {
          "output_type": "execute_result",
          "data": {
            "text/plain": [
              "[<matplotlib.lines.Line2D at 0x7f92ecdbedd8>]"
            ]
          },
          "metadata": {
            "tags": []
          },
          "execution_count": 14
        },
        {
          "output_type": "display_data",
          "data": {
            "image/png": "[encoded data removed]",
            "text/plain": [
              "<Figure size 432x288 with 1 Axes>"
            ]
          },
          "metadata": {
            "tags": [],
            "needs_background": "light"
          }
        }
      ]
    },
    {
      "cell_type": "code",
      "metadata": {
        "id": "M6ej9HhExP1W",
        "colab_type": "code",
        "colab": {}
      },
      "source": [
        ""
      ],
      "execution_count": 0,
      "outputs": []
    }
  ]
}