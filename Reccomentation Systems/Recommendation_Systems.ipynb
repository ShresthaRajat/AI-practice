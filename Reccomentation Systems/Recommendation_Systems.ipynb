{
  "nbformat": 4,
  "nbformat_minor": 0,
  "metadata": {
    "colab": {
      "name": "Recommendation Systems.ipynb",
      "provenance": [],
      "collapsed_sections": []
    },
    "kernelspec": {
      "name": "python3",
      "display_name": "Python 3"
    }
  },
  "cells": [
    {
      "cell_type": "markdown",
      "metadata": {
        "id": "lHOoz_pB4PzD",
        "colab_type": "text"
      },
      "source": [
        "Importing math and numpy for calculation, then storing data in numpy array."
      ]
    },
    {
      "cell_type": "code",
      "metadata": {
        "id": "_1V-qUNWaSpj",
        "colab_type": "code",
        "colab": {}
      },
      "source": [
        "import numpy as np\n",
        "import math\n",
        "\n",
        "john = np.array([7, 7, 5])\n",
        "jeff = np.array([7, 9, 7])\n",
        "andrei = np.array([7, 8, 5])\n",
        "mike = np.array([8, 6, 4])\n",
        "mark = np.array([8, 9, 7])\n",
        "jason = np.array([9, 7, 5])\n",
        "\n",
        "peoples = [john, jeff, andrei, mike, mark]\n",
        "\n",
        "harry_potter = np.array([5, 5, 7, 6, 6])\n",
        "hamlet  = np.array([6, 6, 9, 6, 6])\n",
        "tom_swayer = np.array([6, 3, 6, 4, 9])"
      ],
      "execution_count": 0,
      "outputs": []
    },
    {
      "cell_type": "markdown",
      "metadata": {
        "id": "k34tyz202wjC",
        "colab_type": "text"
      },
      "source": [
        "**Function to claculate euclidean distance coefficent to find similarities between two persons.**\n",
        "\n",
        "> Calculating the similarity scores with all the users we get a list\n",
        "\n",
        "\n",
        "> Using the list we can then predict scores for new entries\n"
      ]
    },
    {
      "cell_type": "code",
      "metadata": {
        "id": "tWt_yGDhy5h2",
        "colab_type": "code",
        "outputId": "dd79b284-ecdf-4074-8f04-61e7967c9584",
        "colab": {
          "base_uri": "https://localhost:8080/",
          "height": 88
        }
      },
      "source": [
        "def euclidean(x,y):\n",
        "    s = 0\n",
        "    for a in x:\n",
        "        for b in y:\n",
        "            s = s+(a-b)**2\n",
        "    return 1/(1+math.sqrt(s))\n",
        "\n",
        "p_match = np.array([euclidean(data,jason) for data in peoples])\n",
        "print(p_match)\n",
        "\n",
        "print(\"harry potter = \",sum(p_match*harry_potter)/sum(p_match))\n",
        "print(\"tom swayer = \", sum(p_match*tom_swayer)/sum(p_match))\n",
        "print(\"hamlet = \", sum(p_match*hamlet)/sum(p_match))"
      ],
      "execution_count": 2,
      "outputs": [
        {
          "output_type": "stream",
          "text": [
            "[0.14285714 0.14285714 0.13802626 0.11696133 0.13802626]\n",
            "harry potter =  5.782404745515714\n",
            "tom swayer =  5.633998824320304\n",
            "hamlet =  6.610080478831265\n"
          ],
          "name": "stdout"
        }
      ]
    },
    {
      "cell_type": "markdown",
      "metadata": {
        "id": "YUlLHKhd3Oly",
        "colab_type": "text"
      },
      "source": [
        "****Function to claculate pearson coefficent to find similarities between two persons.**\n",
        "\n",
        "> Calculating the similarity scores with all the users we get a list\n",
        "\n",
        "\n",
        "> Using the list we can then predict scores for new entries**"
      ]
    },
    {
      "cell_type": "code",
      "metadata": {
        "id": "S9Xn9XOKLrTo",
        "colab_type": "code",
        "outputId": "4959e2fc-af1e-4895-b2d1-838bd85f5343",
        "colab": {
          "base_uri": "https://localhost:8080/",
          "height": 88
        }
      },
      "source": [
        "def pearson(x,y):\n",
        "    a = sum((x-np.mean(x))*(y-np.mean(y)))\n",
        "    b = pow(sum(pow(x-np.mean(x),2)),0.5)*pow(sum(pow(y-np.mean(y),2)),0.5)\n",
        "    return a/b\n",
        "\n",
        "p_match = np.array([pearson(data,jason) for data in peoples])\n",
        "print(p_match)\n",
        "\n",
        "print(\"harry potter = \", sum(p_match*harry_potter)/sum(p_match))\n",
        "print(\"tom swayer = \", sum(p_match*tom_swayer)/sum(p_match))\n",
        "print(\"hamlet = \", sum(p_match*hamlet)/sum(p_match))"
      ],
      "execution_count": 3,
      "outputs": [
        {
          "output_type": "stream",
          "text": [
            "[0.8660254  0.         0.65465367 1.         0.5       ]\n",
            "harry potter =  5.930025094402993\n",
            "tom swayer =  5.834474306051855\n",
            "hamlet =  6.650172018837835\n"
          ],
          "name": "stdout"
        }
      ]
    },
    {
      "cell_type": "code",
      "metadata": {
        "id": "6NaAMZTO1D7Q",
        "colab_type": "code",
        "colab": {}
      },
      "source": [
        ""
      ],
      "execution_count": 0,
      "outputs": []
    }
  ]
}