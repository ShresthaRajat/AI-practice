{
 "cells": [
  {
   "cell_type": "markdown",
   "metadata": {
    "colab_type": "text",
    "id": "lHOoz_pB4PzD"
   },
   "source": [
    "## Nicolas pearson and eucledian method for Reccomendation systems"
   ]
  },
  {
   "cell_type": "markdown",
   "metadata": {},
   "source": [
    "Importing math and numpy for calculation, then storing data in numpy array."
   ]
  },
  {
   "cell_type": "code",
   "execution_count": 3,
   "metadata": {
    "colab": {},
    "colab_type": "code",
    "id": "_1V-qUNWaSpj"
   },
   "outputs": [],
   "source": [
    "import numpy as np\n",
    "import math\n",
    "\n",
    "# Critic \n",
    "john = np.array([7, 7, 5])\n",
    "jeff = np.array([7, 9, 7])\n",
    "andrei = np.array([7, 8, 5])\n",
    "mike = np.array([8, 6, 4])\n",
    "mark = np.array([8, 9, 7])\n",
    "\n",
    "# kun mache ko lai recommend garne?\n",
    "jason = np.array([9, 7, 5])\n",
    "nicolus = np.array([3, 7, 9])\n",
    "\n",
    "peoples = [john, jeff, andrei, mike, mark]\n",
    "\n",
    "harry_potter = np.array([5, 5, 7, 6, 6])\n",
    "hamlet  = np.array([6, 6, 9, 6, 6])\n",
    "tom_swayer = np.array([6, 3, 6, 4, 9])\n",
    "loot = np.array([9, 3, 3, 2, 9])"
   ]
  },
  {
   "cell_type": "markdown",
   "metadata": {
    "colab_type": "text",
    "id": "k34tyz202wjC"
   },
   "source": [
    "**Function to claculate euclidean distance coefficent to find similarities between two persons.**\n",
    "\n",
    "> Calculating the similarity scores with all the users we get a list\n",
    "\n",
    "\n",
    "> Using the list we can then predict scores for new entries\n"
   ]
  },
  {
   "cell_type": "code",
   "execution_count": 4,
   "metadata": {
    "colab": {
     "base_uri": "https://localhost:8080/",
     "height": 84
    },
    "colab_type": "code",
    "id": "tWt_yGDhy5h2",
    "outputId": "7dc5f0bd-2647-4e4e-9fe9-ac9268d22482"
   },
   "outputs": [
    {
     "name": "stdout",
     "output_type": "stream",
     "text": [
      "[0.11111111 0.1005604  0.10608785 0.1        0.09682999]\n",
      "harry potter =  5.79481957893969\n",
      "tom swayer =  5.589592669279737\n",
      "hamlet =  6.61848065220319\n",
      "loot =  5.230218295275616\n"
     ]
    }
   ],
   "source": [
    "def euclidean(x,y):\n",
    "    s = 0\n",
    "    for a in x:\n",
    "        for b in y:\n",
    "            s = s+(a-b)**2\n",
    "    return 1/(1+math.sqrt(s))\n",
    "\n",
    "p_match = np.array([euclidean(data,nicolus) for data in peoples])\n",
    "print(p_match)\n",
    "\n",
    "print(\"harry potter = \",sum(p_match*harry_potter)/sum(p_match))\n",
    "print(\"tom swayer = \", sum(p_match*tom_swayer)/sum(p_match))\n",
    "print(\"hamlet = \", sum(p_match*hamlet)/sum(p_match))\n",
    "print(\"loot = \", sum(p_match*loot)/sum(p_match))"
   ]
  },
  {
   "cell_type": "markdown",
   "metadata": {
    "colab_type": "text",
    "id": "YUlLHKhd3Oly"
   },
   "source": [
    "****Function to claculate pearson coefficent to find similarities between two persons.**\n",
    "\n",
    "> Calculating the similarity scores with all the users we get a list\n",
    "\n",
    "\n",
    "> Using the list we can then predict scores for new entries**"
   ]
  },
  {
   "cell_type": "code",
   "execution_count": 5,
   "metadata": {
    "colab": {
     "base_uri": "https://localhost:8080/",
     "height": 90
    },
    "colab_type": "code",
    "id": "S9Xn9XOKLrTo",
    "outputId": "67e6c0f8-8a50-42e5-b783-9a139857754b"
   },
   "outputs": [
    {
     "name": "stdout",
     "output_type": "stream",
     "text": [
      "[0.8660254  0.         0.65465367 1.         0.5       ]\n",
      "harry potter =  5.930025094402993\n",
      "tom swayer =  5.834474306051855\n",
      "hamlet =  6.650172018837835\n"
     ]
    }
   ],
   "source": [
    "def pearson(x,y):\n",
    "    a = sum((x-np.mean(x))*(y-np.mean(y)))\n",
    "    b = pow(sum(pow(x-np.mean(x),2)),0.5)*pow(sum(pow(y-np.mean(y),2)),0.5)\n",
    "    return a/b\n",
    "\n",
    "p_match = np.array([pearson(data,jason) for data in peoples])\n",
    "print(p_match)\n",
    "\n",
    "print(\"harry potter = \", sum(p_match*harry_potter)/sum(p_match))\n",
    "print(\"tom swayer = \", sum(p_match*tom_swayer)/sum(p_match))\n",
    "print(\"hamlet = \", sum(p_match*hamlet)/sum(p_match))"
   ]
  },
  {
   "cell_type": "code",
   "execution_count": null,
   "metadata": {},
   "outputs": [],
   "source": []
  }
 ],
 "metadata": {
  "colab": {
   "collapsed_sections": [],
   "name": "Recommendation Systems.ipynb",
   "provenance": []
  },
  "kernelspec": {
   "display_name": "Python 3",
   "language": "python",
   "name": "python3"
  },
  "language_info": {
   "codemirror_mode": {
    "name": "ipython",
    "version": 3
   },
   "file_extension": ".py",
   "mimetype": "text/x-python",
   "name": "python",
   "nbconvert_exporter": "python",
   "pygments_lexer": "ipython3",
   "version": "3.7.6"
  }
 },
 "nbformat": 4,
 "nbformat_minor": 1
}
