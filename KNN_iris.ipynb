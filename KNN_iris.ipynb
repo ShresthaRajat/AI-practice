{
  "nbformat": 4,
  "nbformat_minor": 0,
  "metadata": {
    "kernelspec": {
      "display_name": "Python 3",
      "language": "python",
      "name": "python3"
    },
    "language_info": {
      "codemirror_mode": {
        "name": "ipython",
        "version": 3
      },
      "file_extension": ".py",
      "mimetype": "text/x-python",
      "name": "python",
      "nbconvert_exporter": "python",
      "pygments_lexer": "ipython3",
      "version": "3.7.3"
    },
    "colab": {
      "name": "Copy of KNN_iris_students.ipynb",
      "provenance": [],
      "collapsed_sections": []
    }
  },
  "cells": [
    {
      "cell_type": "markdown",
      "metadata": {
        "id": "UkCKXWC3wLmC",
        "colab_type": "text"
      },
      "source": [
        "### For implementing the KNN algorithm for classification, we will be using the Iris-Flower dataset. \n",
        "\n",
        "Each example in the dataset has 4 attributes:\n",
        "1. sepal length in cm \n",
        "2. sepal width in cm \n",
        "3. petal length in cm \n",
        "4. petal width in cm \n",
        "\n",
        "So each example is 4-dimentional. The dataset has 3 classes:\n",
        "1. Iris Setosa \n",
        "2. Iris Versicolour \n",
        "3. Iris Virginica\n",
        "\n",
        "So each example falls into one of the 3 above mentioned classes. The classification task here is no longer a __binary classification problem__ but a __multi-class classification problem__. You can read more about the dataset at: https://archive.ics.uci.edu/ml/datasets/iris"
      ]
    },
    {
      "cell_type": "code",
      "metadata": {
        "id": "xemGRdsuwLmJ",
        "colab_type": "code",
        "outputId": "a0dcba4b-ec01-4f24-d5cc-e596dcce3571",
        "colab": {
          "base_uri": "https://localhost:8080/",
          "height": 34
        }
      },
      "source": [
        "from sklearn.datasets import load_iris \n",
        "from sklearn.model_selection import train_test_split\n",
        "import numpy as np\n",
        "\n",
        "data = load_iris() #load the iris dataset\n",
        "X = data.data\n",
        "y = data.target\n",
        "print(len(X)) #print number of examples"
      ],
      "execution_count": 0,
      "outputs": [
        {
          "output_type": "stream",
          "text": [
            "150\n"
          ],
          "name": "stdout"
        }
      ]
    },
    {
      "cell_type": "code",
      "metadata": {
        "id": "PCXSyVCHwLmj",
        "colab_type": "code",
        "colab": {}
      },
      "source": [
        "#split into train set and test set first by using the library function, 20% of the data goes to the test set\n",
        "X_train, X_test, y_train, y_test = train_test_split(X,y,test_size=0.2) "
      ],
      "execution_count": 0,
      "outputs": []
    },
    {
      "cell_type": "code",
      "metadata": {
        "id": "Lzu1EvEhwLmr",
        "colab_type": "code",
        "outputId": "4552360f-e437-4c66-c35e-8a62323a8549",
        "colab": {
          "base_uri": "https://localhost:8080/",
          "height": 34
        }
      },
      "source": [
        "print(len(X_train),len(X_test)) #number of examples in the train and test set"
      ],
      "execution_count": 0,
      "outputs": [
        {
          "output_type": "stream",
          "text": [
            "120 30\n"
          ],
          "name": "stdout"
        }
      ]
    },
    {
      "cell_type": "code",
      "metadata": {
        "id": "MoE-SYMqwLmy",
        "colab_type": "code",
        "colab": {}
      },
      "source": [
        "#split the training set again into training and vaidation set by using the library function, \n",
        "#with 20% of the training set examples going inside the validation set\n",
        "X_train, X_validation, y_train, y_validation = train_test_split(X_train,y_train,test_size=0.2) "
      ],
      "execution_count": 0,
      "outputs": []
    },
    {
      "cell_type": "code",
      "metadata": {
        "id": "pNrJCznRwLm2",
        "colab_type": "code",
        "outputId": "2487c947-bb8c-4804-95f7-58548dc5e866",
        "colab": {
          "base_uri": "https://localhost:8080/",
          "height": 34
        }
      },
      "source": [
        "print(len(X_train),len(X_validation),len(X_test)) #number of examples in the train, validation and test set"
      ],
      "execution_count": 0,
      "outputs": [
        {
          "output_type": "stream",
          "text": [
            "96 24 30\n"
          ],
          "name": "stdout"
        }
      ]
    },
    {
      "cell_type": "markdown",
      "metadata": {
        "id": "On0ZLJ2RwLm7",
        "colab_type": "text"
      },
      "source": [
        "## Use scikit-learn to build the KNN model"
      ]
    },
    {
      "cell_type": "code",
      "metadata": {
        "id": "bpxTT2TEwLm-",
        "colab_type": "code",
        "colab": {}
      },
      "source": [
        "from sklearn.neighbors import KNeighborsClassifier as KNN\n",
        "from sklearn.metrics import accuracy_score"
      ],
      "execution_count": 0,
      "outputs": []
    },
    {
      "cell_type": "code",
      "metadata": {
        "id": "1lWi1hlawLnK",
        "colab_type": "code",
        "outputId": "29a9a886-a83a-4e32-8d60-53bd9a7d65ac",
        "colab": {
          "base_uri": "https://localhost:8080/",
          "height": 34
        }
      },
      "source": [
        "K = 3 #number of neighbors\n",
        "model = KNN(n_neighbors=K) #initialize KNN model with n as the number of neighbors\n",
        "model.fit(X_train,y_train) #fit the model/train the model\n",
        "predictions = model.predict(X_validation) #get the predictions for all examples in the validation set\n",
        "accuracy = accuracy_score(predictions,y_validation) #get the accuaracy on the validation set by using the built in function accuracy score\n",
        "print(accuracy)"
      ],
      "execution_count": 0,
      "outputs": [
        {
          "output_type": "stream",
          "text": [
            "0.9166666666666666\n"
          ],
          "name": "stdout"
        }
      ]
    },
    {
      "cell_type": "markdown",
      "metadata": {
        "id": "R-pXtLsXwLnS",
        "colab_type": "text"
      },
      "source": [
        "## Do it yourself\n",
        "You can see that using __K = 3__, results in a fairly good accuracy in the validation set, but it may not be the optimal value. What you need to do now is to find out the best value for K from a set of values which you must define yourself. Run the above process for each value of K and find out which value of K gives the maximum accuracy on the validation set. \n",
        "\n",
        "Then by using the best value for K, calculate the overall accuracy of the model on the test set."
      ]
    },
    {
      "cell_type": "code",
      "metadata": {
        "id": "GfStUqyYwLnU",
        "colab_type": "code",
        "outputId": "326bc27f-f32a-4ae2-9566-9349fe1eeb34",
        "colab": {
          "base_uri": "https://localhost:8080/",
          "height": 151
        }
      },
      "source": [
        "def x(K):\n",
        "    model = KNN(n_neighbors=K) #initialize KNN model with n as the number of neighbors\n",
        "    model.fit(X_train,y_train) #fit the model/train the model\n",
        "\n",
        "    predictions = model.predict(X_validation) #get the predictions for all examples in the validation set\n",
        "    accuracy = accuracy_score(predictions,y_validation) #get the accuaracy on the validation set by using the built in function accuracy score\n",
        "\n",
        "    testing_predictions = model.predict(X_test) \n",
        "    testing_accuracy = accuracy_score(testing_predictions,y_test) \n",
        "\n",
        "    return accuracy, testing_accuracy\n",
        "\n",
        "l = []\n",
        "for i in range(2,10):\n",
        "    if x(i)[0] > 0.9:\n",
        "        print(i, x(i))"
      ],
      "execution_count": 0,
      "outputs": [
        {
          "output_type": "stream",
          "text": [
            "2 (0.9166666666666666, 1.0)\n",
            "3 (0.9166666666666666, 1.0)\n",
            "4 (0.9166666666666666, 1.0)\n",
            "5 (0.9166666666666666, 1.0)\n",
            "6 (0.9166666666666666, 1.0)\n",
            "7 (0.9166666666666666, 1.0)\n",
            "8 (0.9583333333333334, 1.0)\n",
            "9 (0.9583333333333334, 1.0)\n"
          ],
          "name": "stdout"
        }
      ]
    },
    {
      "cell_type": "code",
      "metadata": {
        "id": "wMH8DBiMznbq",
        "colab_type": "code",
        "colab": {}
      },
      "source": [
        ""
      ],
      "execution_count": 0,
      "outputs": []
    }
  ]
}