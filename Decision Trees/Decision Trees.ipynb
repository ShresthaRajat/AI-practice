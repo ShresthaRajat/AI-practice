{
  "nbformat": 4,
  "nbformat_minor": 0,
  "metadata": {
    "colab": {
      "name": "decision trees rajat.ipynb",
      "provenance": [],
      "collapsed_sections": []
    },
    "kernelspec": {
      "name": "python3",
      "display_name": "Python 3"
    }
  },
  "cells": [
    {
      "cell_type": "code",
      "metadata": {
        "id": "sT4oG8EycK7c",
        "colab_type": "code",
        "colab": {}
      },
      "source": [
        "import math"
      ],
      "execution_count": 0,
      "outputs": []
    },
    {
      "cell_type": "code",
      "metadata": {
        "id": "7LLCJnLFcXsy",
        "colab_type": "code",
        "colab": {}
      },
      "source": [
        "def entropy(positive,negative):\n",
        "    sum = negative+positive\n",
        "    try:\n",
        "        positive_ratio = math.log2(positive/sum)\n",
        "        negative_ratio = math.log2(negative/sum)\n",
        "    except ValueError:\n",
        "        positive_ratio = 0\n",
        "        negative_ratio = 0\n",
        "    return (-(positive/sum)*positive_ratio-(negative/sum)*negative_ratio)"
      ],
      "execution_count": 0,
      "outputs": []
    },
    {
      "cell_type": "code",
      "metadata": {
        "id": "v4pBcdUBcYP9",
        "colab_type": "code",
        "outputId": "a7155bbf-fc41-4598-cd9d-11af131a8a90",
        "colab": {
          "base_uri": "https://localhost:8080/",
          "height": 34
        }
      },
      "source": [
        "entropy(9,5)"
      ],
      "execution_count": 0,
      "outputs": [
        {
          "output_type": "execute_result",
          "data": {
            "text/plain": [
              "0.9402859586706309"
            ]
          },
          "metadata": {
            "tags": []
          },
          "execution_count": 8
        }
      ]
    },
    {
      "cell_type": "code",
      "metadata": {
        "id": "_z_bu3MdcaI9",
        "colab_type": "code",
        "colab": {}
      },
      "source": [
        "def gain(positive,negative,list):\n",
        "    parent_entropy = entropy(negative,positive)\n",
        "    sum = negative+positive\n",
        "    sum_of_values = 0\n",
        "    for i in list:\n",
        "        a = i[0]\n",
        "        b = i[1]\n",
        "        sum_of_values = sum_of_values + abs(abs(a+b)/abs(sum))*entropy(a,b)\n",
        "    return parent_entropy - sum_of_values\n",
        "        "
      ],
      "execution_count": 0,
      "outputs": []
    },
    {
      "cell_type": "code",
      "metadata": {
        "id": "xIB0-Rqdcbx8",
        "colab_type": "code",
        "outputId": "274aeedd-e305-4df0-a3d0-778249b4dcba",
        "colab": {
          "base_uri": "https://localhost:8080/",
          "height": 84
        }
      },
      "source": [
        "outlook = [[2,3],[4,0],[3,2]]\n",
        "temprature = [[2,2],[4,2],[3,1]]\n",
        "humidity = [[5,4],[6,1]]\n",
        "wind = [[6,2],[3,3]]\n",
        "\n",
        "print(\"outlook_gain = \"+str(gain(9,5,outlook)))\n",
        "print(\"temprature_gain = \"+str(gain(9,5,temprature)))\n",
        "print(\"humidity_gain = \"+str(gain(9,5,humidity)))\n",
        "print(\"wind_gain = \"+str(gain(9,5,wind)))"
      ],
      "execution_count": 0,
      "outputs": [
        {
          "output_type": "stream",
          "text": [
            "outlook_gain = 0.2467498197744391\n",
            "temprature_gain = 0.029222565658954647\n",
            "humidity_gain = 0.007329245197752798\n",
            "wind_gain = 0.04812703040826927\n"
          ],
          "name": "stdout"
        }
      ]
    },
    {
      "cell_type": "markdown",
      "metadata": {
        "id": "gCKrnNMdKYZo",
        "colab_type": "text"
      },
      "source": [
        "Since outlook has the highest gain value. Therefore, taking outlook as the lead node.\n",
        "Overcast is totally saturated with all outcome being positive.\n",
        "Sunny has 2 positive and 3 negative\n",
        "Rain has 3 positive and 2 negative\n",
        "\n",
        "so calsulating the nodes for sunny and rainy in with respect to temperature humidity and wind.\n"
      ]
    },
    {
      "cell_type": "code",
      "metadata": {
        "id": "AfU4xaFPKe_E",
        "colab_type": "code",
        "outputId": "59a3875b-f2bd-4a4e-b96a-5a1b16a72601",
        "colab": {
          "base_uri": "https://localhost:8080/",
          "height": 67
        }
      },
      "source": [
        "sunny_humidity = [[0,3],[2,0]]\n",
        "sunny_temperature = [[0,2],[1,1],[1,0]]\n",
        "sunny_wind = [[1,2],[1,1]]\n",
        "\n",
        "print(\"sunny_humidity_gain = \"+str(gain(2,3,sunny_humidity)))\n",
        "print(\"sunny_temperature_gain = \"+str(gain(2,3,sunny_temperature)))\n",
        "print(\"sunny_wind_gain = \"+str(gain(2,3,sunny_wind)))"
      ],
      "execution_count": 0,
      "outputs": [
        {
          "output_type": "stream",
          "text": [
            "sunny_humidity_gain = 0.9709505944546686\n",
            "sunny_temperature_gain = 0.5709505944546686\n",
            "sunny_wind_gain = 0.01997309402197489\n"
          ],
          "name": "stdout"
        }
      ]
    },
    {
      "cell_type": "code",
      "metadata": {
        "id": "lRRJW_mKcdcm",
        "colab_type": "code",
        "outputId": "ce4e6e83-45ee-431e-fdad-ba5a80809a26",
        "colab": {
          "base_uri": "https://localhost:8080/",
          "height": 67
        }
      },
      "source": [
        "rain_humidity = [[1,1],[2,1]]\n",
        "rain_temperature = [[2,1],[1,1]]\n",
        "rain_wind = [[3,0],[0,2]]\n",
        "\n",
        "print(\"rain_humidity_gain = \"+str(gain(3,2,rain_humidity)))\n",
        "print(\"rain_temperature_gain = \"+str(gain(3,2,rain_temperature)))\n",
        "print(\"rain_wind_gain = \"+str(gain(3,2,rain_wind)))"
      ],
      "execution_count": 0,
      "outputs": [
        {
          "output_type": "stream",
          "text": [
            "rain_humidity_gain = 0.01997309402197489\n",
            "rain_temperature_gain = 0.01997309402197489\n",
            "rain_wind_gain = 0.9709505944546686\n"
          ],
          "name": "stdout"
        }
      ]
    },
    {
      "cell_type": "markdown",
      "metadata": {
        "id": "sflR2ORjSGt8",
        "colab_type": "text"
      },
      "source": [
        "From above results, the results of sunny are totally saturated if compared with humidity and the results of rainy is totally sturated if compared with wind\n",
        "Therefore the final decision tree will look like this:"
      ]
    },
    {
      "cell_type": "markdown",
      "metadata": {
        "id": "V4eMI3OZY0IG",
        "colab_type": "text"
      },
      "source": [
        "![alt text](https://i.imgur.com/CM5cN3l.png)"
      ]
    },
    {
      "cell_type": "code",
      "metadata": {
        "id": "83PAr0k5ZUfc",
        "colab_type": "code",
        "colab": {}
      },
      "source": [
        ""
      ],
      "execution_count": 0,
      "outputs": []
    }
  ]
}